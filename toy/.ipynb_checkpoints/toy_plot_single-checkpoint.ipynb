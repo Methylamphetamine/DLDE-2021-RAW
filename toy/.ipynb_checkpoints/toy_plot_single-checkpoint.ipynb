{
 "cells": [
  {
   "cell_type": "code",
   "execution_count": 1,
   "metadata": {},
   "outputs": [
    {
     "name": "stdout",
     "output_type": "stream",
     "text": [
      "\u001b[1m\u001b[37mblade.seas.upenn.edu\u001b[m  Tue Aug 17 14:36:03 2021  \u001b[1m\u001b[30m455.45.01\u001b[m\r\n",
      "\u001b[36m[0]\u001b[m \u001b[34mRTX A6000       \u001b[m |\u001b[31m 33'C\u001b[m, \u001b[32m  0 %\u001b[m | \u001b[36m\u001b[1m\u001b[33m44884\u001b[m / \u001b[33m48685\u001b[m MB | \u001b[1m\u001b[30mwangh19\u001b[m(\u001b[33m44881M\u001b[m)\r\n",
      "\u001b[36m[1]\u001b[m \u001b[34mRTX A6000       \u001b[m |\u001b[31m 27'C\u001b[m, \u001b[32m  0 %\u001b[m | \u001b[36m\u001b[1m\u001b[33m    1\u001b[m / \u001b[33m48685\u001b[m MB |\r\n",
      "\u001b[36m[2]\u001b[m \u001b[34mRTX A6000       \u001b[m |\u001b[31m 29'C\u001b[m, \u001b[32m  0 %\u001b[m | \u001b[36m\u001b[1m\u001b[33m    1\u001b[m / \u001b[33m48685\u001b[m MB |\r\n",
      "\u001b[36m[3]\u001b[m \u001b[34mRTX A6000       \u001b[m |\u001b[31m 27'C\u001b[m, \u001b[32m  0 %\u001b[m | \u001b[36m\u001b[1m\u001b[33m    1\u001b[m / \u001b[33m48685\u001b[m MB |\r\n",
      "\u001b[36m[4]\u001b[m \u001b[34mRTX A6000       \u001b[m |\u001b[31m 29'C\u001b[m, \u001b[32m  0 %\u001b[m | \u001b[36m\u001b[1m\u001b[33m    1\u001b[m / \u001b[33m48685\u001b[m MB |\r\n",
      "\u001b[36m[5]\u001b[m \u001b[34mRTX A6000       \u001b[m |\u001b[31m 27'C\u001b[m, \u001b[32m  0 %\u001b[m | \u001b[36m\u001b[1m\u001b[33m    1\u001b[m / \u001b[33m48685\u001b[m MB |\r\n",
      "\u001b[36m[6]\u001b[m \u001b[34mRTX A6000       \u001b[m |\u001b[31m 29'C\u001b[m, \u001b[32m  0 %\u001b[m | \u001b[36m\u001b[1m\u001b[33m    1\u001b[m / \u001b[33m48685\u001b[m MB |\r\n",
      "\u001b[36m[7]\u001b[m \u001b[34mRTX A6000       \u001b[m |\u001b[31m 28'C\u001b[m, \u001b[32m  0 %\u001b[m | \u001b[36m\u001b[1m\u001b[33m    1\u001b[m / \u001b[33m48685\u001b[m MB |\r\n"
     ]
    }
   ],
   "source": [
    "!gpustat"
   ]
  },
  {
   "cell_type": "code",
   "execution_count": 2,
   "metadata": {},
   "outputs": [],
   "source": [
    "import os\n",
    "os.environ[\"CUDA_VISIBLE_DEVICES\"] = \"3\""
   ]
  },
  {
   "cell_type": "code",
   "execution_count": 3,
   "metadata": {},
   "outputs": [],
   "source": [
    "import numpy as onp\n",
    "from numpy import fft\n",
    "import jax.numpy as np\n",
    "from jax import random, grad, vmap, jit, lax\n",
    "from jax.experimental import optimizers\n",
    "from jax.experimental.optimizers import make_schedule\n",
    "from jax.experimental.ode import odeint\n",
    "from jax.nn import relu, leaky_relu, swish, sigmoid\n",
    "from jax.config import config\n",
    "\n",
    "import itertools\n",
    "from functools import partial\n",
    "from torch.utils import data\n",
    "from tqdm import trange\n",
    "import matplotlib.pyplot as plt\n",
    "from scipy.interpolate import griddata\n",
    "\n",
    "from jax import jacobian, eval_shape\n",
    "from jax.tree_util import tree_map, tree_multimap, tree_reduce \n",
    "from jax.flatten_util import ravel_pytree\n",
    "from jax.ops import index_update, index\n",
    "\n",
    "from jaxpinns.optimizers import mdmm_adam\n",
    "\n",
    "import neural_tangents as nt\n",
    "import operator\n",
    "\n",
    "from jax.scipy.stats.norm import logpdf, pdf\n",
    "\n",
    "\n",
    "from tqdm import trange, tqdm\n",
    "\n",
    "import time\n",
    "%matplotlib inline\n",
    "from IPython.display import clear_output"
   ]
  },
  {
   "cell_type": "code",
   "execution_count": 5,
   "metadata": {},
   "outputs": [],
   "source": [
    "plt.rcParams.update(plt.rcParamsDefault)\n",
    "plt.rc('font', family='serif')\n",
    "plt.rcParams.update({'font.size': 16,\n",
    "                        'lines.linewidth': 2,\n",
    "                        'axes.labelsize': 10,\n",
    "                        'axes.titlesize': 16,\n",
    "                        'xtick.labelsize': 10,\n",
    "                        'ytick.labelsize': 10,\n",
    "                        'legend.fontsize': 10,\n",
    "                        'axes.linewidth': 2})"
   ]
  },
  {
   "cell_type": "code",
   "execution_count": 6,
   "metadata": {},
   "outputs": [
    {
     "name": "stdout",
     "output_type": "stream",
     "text": [
      "0.001_48_bias.npy\t    Archive\r\n",
      "0.001_48_errors.txt\t    before_scaled_angles.pdf\r\n",
      "0.001_48_weight.npy\t    change_scaled_angles_48.pdf\r\n",
      "0.001_8_bias.npy\t    change_scaled_angles_64.pdf\r\n",
      "0.001_8_errors.txt\t    change_scaled_angles_8.pdf\r\n",
      "0.001_8_weight.npy\t    change_scaled_angles.pdf\r\n",
      "32_fit.pdf\t\t    _data_size_errors_32.pdf\r\n",
      "32_loss.pdf\t\t    _data_size_target_32.pdf\r\n",
      "32_norm.pdf\t\t    _data_size_train_test_errors_32.npy\r\n",
      "48_bias_norm.pdf\t    _data_size_train_test_errors.npy\r\n",
      "48_fit.pdf\t\t    initial.pdf\r\n",
      "48_loss.pdf\t\t    max_freq_256_0.0001.npy\r\n",
      "48_norm.pdf\t\t    max_freq_256_0.001.npy\r\n",
      "64_bias_norm.pdf\t    max_freq_256_0.01.npy\r\n",
      "64_fit.pdf\t\t    max_freq_256_1e-05.npy\r\n",
      "64_loss.pdf\t\t    max_freq_256.npy\r\n",
      "64_norm.pdf\t\t    test_l2_256.pdf\r\n",
      "8_bias_norm.pdf\t\t    toy_loss_256_0.0001.npy\r\n",
      "8_fit.pdf\t\t    toy_loss_256_0.001.npy\r\n",
      "8_loss.pdf\t\t    toy_loss_256_0.01.npy\r\n",
      "8_norm.pdf\t\t    toy_loss_256_1e-05.npy\r\n",
      "after_scaled_angles_48.pdf  toy_loss_256.npy\r\n",
      "after_scaled_angles_64.pdf  toy_plot.ipynb\r\n",
      "after_scaled_angles_8.pdf   toy_plot_single.ipynb\r\n",
      "after_scaled_angles.pdf     training_l2_256.pdf\r\n"
     ]
    }
   ],
   "source": [
    "!ls"
   ]
  },
  {
   "cell_type": "code",
   "execution_count": null,
   "metadata": {},
   "outputs": [],
   "source": [
    "lam = 0.001\n",
    "max_freq = 48"
   ]
  },
  {
   "cell_type": "code",
   "execution_count": 7,
   "metadata": {},
   "outputs": [],
   "source": [
    "weight_norms = np.load(f'{lam}_{max_freq}_weight.npy')\n",
    "bias_norms = np.load(f'{lam}_{max_freq}_bias.npy')"
   ]
  },
  {
   "cell_type": "code",
   "execution_count": 1,
   "metadata": {},
   "outputs": [
    {
     "ename": "NameError",
     "evalue": "name 'plt' is not defined",
     "output_type": "error",
     "traceback": [
      "\u001b[0;31m---------------------------------------------------------------------------\u001b[0m",
      "\u001b[0;31mNameError\u001b[0m                                 Traceback (most recent call last)",
      "\u001b[0;32m<ipython-input-1-c2d8e85947ea>\u001b[0m in \u001b[0;36m<module>\u001b[0;34m\u001b[0m\n\u001b[0;32m----> 1\u001b[0;31m \u001b[0mplt\u001b[0m\u001b[0;34m.\u001b[0m\u001b[0mfigure\u001b[0m\u001b[0;34m(\u001b[0m\u001b[0mfigsize\u001b[0m \u001b[0;34m=\u001b[0m \u001b[0;34m(\u001b[0m\u001b[0;36m4\u001b[0m\u001b[0;34m,\u001b[0m\u001b[0;36m3\u001b[0m\u001b[0;34m)\u001b[0m\u001b[0;34m)\u001b[0m\u001b[0;34m\u001b[0m\u001b[0;34m\u001b[0m\u001b[0m\n\u001b[0m\u001b[1;32m      2\u001b[0m \u001b[0mplt\u001b[0m\u001b[0;34m.\u001b[0m\u001b[0mplot\u001b[0m\u001b[0;34m(\u001b[0m\u001b[0mweight_norms\u001b[0m\u001b[0;34m[\u001b[0m\u001b[0;36m0\u001b[0m\u001b[0;34m]\u001b[0m\u001b[0;34m,\u001b[0m \u001b[0mlabel\u001b[0m \u001b[0;34m=\u001b[0m \u001b[0;34m'Xavier, trained'\u001b[0m\u001b[0;34m,\u001b[0m \u001b[0mcolor\u001b[0m \u001b[0;34m=\u001b[0m \u001b[0;34m'r'\u001b[0m\u001b[0;34m)\u001b[0m\u001b[0;34m\u001b[0m\u001b[0;34m\u001b[0m\u001b[0m\n\u001b[1;32m      3\u001b[0m \u001b[0mplt\u001b[0m\u001b[0;34m.\u001b[0m\u001b[0mplot\u001b[0m\u001b[0;34m(\u001b[0m\u001b[0mweight_norms\u001b[0m\u001b[0;34m[\u001b[0m\u001b[0;36m1\u001b[0m\u001b[0;34m]\u001b[0m\u001b[0;34m,\u001b[0m \u001b[0mlabel\u001b[0m \u001b[0;34m=\u001b[0m \u001b[0;34m'Scaled, trained'\u001b[0m\u001b[0;34m,\u001b[0m \u001b[0mcolor\u001b[0m \u001b[0;34m=\u001b[0m \u001b[0;34m'b'\u001b[0m\u001b[0;34m)\u001b[0m\u001b[0;34m\u001b[0m\u001b[0;34m\u001b[0m\u001b[0m\n\u001b[1;32m      4\u001b[0m \u001b[0mplt\u001b[0m\u001b[0;34m.\u001b[0m\u001b[0mplot\u001b[0m\u001b[0;34m(\u001b[0m\u001b[0mweight_norms\u001b[0m\u001b[0;34m[\u001b[0m\u001b[0;36m2\u001b[0m\u001b[0;34m]\u001b[0m\u001b[0;34m,\u001b[0m \u001b[0mlinewidth\u001b[0m \u001b[0;34m=\u001b[0m \u001b[0;36m4\u001b[0m\u001b[0;34m,\u001b[0m \u001b[0malpha\u001b[0m \u001b[0;34m=\u001b[0m \u001b[0;36m0.5\u001b[0m\u001b[0;34m,\u001b[0m \u001b[0mlinestyle\u001b[0m \u001b[0;34m=\u001b[0m \u001b[0;34m'--'\u001b[0m\u001b[0;34m,\u001b[0m \u001b[0mlabel\u001b[0m \u001b[0;34m=\u001b[0m \u001b[0;34m'Xavier init.'\u001b[0m\u001b[0;34m,\u001b[0m \u001b[0mcolor\u001b[0m \u001b[0;34m=\u001b[0m \u001b[0;34m'r'\u001b[0m\u001b[0;34m)\u001b[0m\u001b[0;34m\u001b[0m\u001b[0;34m\u001b[0m\u001b[0m\n\u001b[1;32m      5\u001b[0m \u001b[0mplt\u001b[0m\u001b[0;34m.\u001b[0m\u001b[0mplot\u001b[0m\u001b[0;34m(\u001b[0m\u001b[0mweight_norms\u001b[0m\u001b[0;34m[\u001b[0m\u001b[0;36m3\u001b[0m\u001b[0;34m]\u001b[0m\u001b[0;34m,\u001b[0m \u001b[0mlinewidth\u001b[0m \u001b[0;34m=\u001b[0m \u001b[0;36m4\u001b[0m\u001b[0;34m,\u001b[0m \u001b[0malpha\u001b[0m \u001b[0;34m=\u001b[0m \u001b[0;36m0.5\u001b[0m\u001b[0;34m,\u001b[0m \u001b[0mlinestyle\u001b[0m \u001b[0;34m=\u001b[0m \u001b[0;34m'--'\u001b[0m\u001b[0;34m,\u001b[0m \u001b[0mlabel\u001b[0m \u001b[0;34m=\u001b[0m \u001b[0;34m'Scaled init.'\u001b[0m\u001b[0;34m,\u001b[0m \u001b[0mcolor\u001b[0m \u001b[0;34m=\u001b[0m \u001b[0;34m'b'\u001b[0m\u001b[0;34m)\u001b[0m\u001b[0;34m\u001b[0m\u001b[0;34m\u001b[0m\u001b[0m\n",
      "\u001b[0;31mNameError\u001b[0m: name 'plt' is not defined"
     ]
    }
   ],
   "source": [
    "plt.figure(figsize = (4,3))\n",
    "plt.plot(weight_norms[0], label = 'Xavier, trained', color = 'r')\n",
    "plt.plot(weight_norms[1], label = 'Scaled, trained', color = 'b')\n",
    "plt.plot(weight_norms[2], linewidth = 4, alpha = 0.5, linestyle = '--', label = 'Xavier init.', color = 'r')\n",
    "plt.plot(weight_norms[3], linewidth = 4, alpha = 0.5, linestyle = '--', label = 'Scaled init.', color = 'b')\n",
    "plt.legend(loc = 'upper right')\n",
    "plt.xlabel('layer')\n",
    "plt.ylabel(r'$L_2$ norm')\n",
    "plt.ylim([0, 60])\n",
    "plt.tight_layout()\n",
    "plt.savefig(path + f'{int(max_freq)}_norm.pdf', dpi = 100)\n",
    "plt.show()\n",
    "plt.close()"
   ]
  },
  {
   "cell_type": "code",
   "execution_count": null,
   "metadata": {},
   "outputs": [],
   "source": [
    "plt.figure(figsize = (4,3))\n",
    "plt.plot(bias_norms[0], label = 'Xavier, trained', color = 'r')\n",
    "plt.plot(bias_norms[1], label = 'Scaled, trained', color = 'b')\n",
    "plt.plot(bias_norms[2], linewidth = 4, alpha = 0.5, linestyle = '--', label = 'Xavier init.', color = 'r')\n",
    "plt.plot(bias_norms[3], linewidth = 4, alpha = 0.5, linestyle = '--', label = 'Scaled init.', color = 'b')plt.legend(loc = 'upper right')\n",
    "plt.xlabel('layer')\n",
    "plt.ylabel(r'$L_2$ norm')\n",
    "plt.tight_layout()\n",
    "plt.savefig(path + f'{int(max_freq)}_bias_norm.pdf', dpi = 100)\n",
    "plt.show()\n",
    "plt.close()"
   ]
  }
 ],
 "metadata": {
  "kernelspec": {
   "display_name": "Python 3",
   "language": "python",
   "name": "python3"
  },
  "language_info": {
   "codemirror_mode": {
    "name": "ipython",
    "version": 3
   },
   "file_extension": ".py",
   "mimetype": "text/x-python",
   "name": "python",
   "nbconvert_exporter": "python",
   "pygments_lexer": "ipython3",
   "version": "3.8.5"
  }
 },
 "nbformat": 4,
 "nbformat_minor": 4
}
