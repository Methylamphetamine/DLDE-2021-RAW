{
 "cells": [
  {
   "cell_type": "code",
   "execution_count": 1,
   "metadata": {},
   "outputs": [
    {
     "name": "stdout",
     "output_type": "stream",
     "text": [
      "\u001b[1m\u001b[37mblade.seas.upenn.edu\u001b[m  Sat Sep 11 13:45:46 2021  \u001b[1m\u001b[30m455.45.01\u001b[m\r\n",
      "\u001b[36m[0]\u001b[m \u001b[34mRTX A6000       \u001b[m |\u001b[31m 33'C\u001b[m, \u001b[32m  0 %\u001b[m | \u001b[36m\u001b[1m\u001b[33m45172\u001b[m / \u001b[33m48685\u001b[m MB | \u001b[1m\u001b[30mshyamss\u001b[m(\u001b[33m45169M\u001b[m)\r\n",
      "\u001b[36m[1]\u001b[m \u001b[34mRTX A6000       \u001b[m |\u001b[31m 28'C\u001b[m, \u001b[32m  0 %\u001b[m | \u001b[36m\u001b[1m\u001b[33m    1\u001b[m / \u001b[33m48685\u001b[m MB |\r\n",
      "\u001b[36m[2]\u001b[m \u001b[34mRTX A6000       \u001b[m |\u001b[1m\u001b[31m 83'C\u001b[m, \u001b[1m\u001b[32m 99 %\u001b[m | \u001b[36m\u001b[1m\u001b[33m45206\u001b[m / \u001b[33m48685\u001b[m MB | \u001b[1m\u001b[30msifanw\u001b[m(\u001b[33m45203M\u001b[m)\r\n",
      "\u001b[36m[3]\u001b[m \u001b[34mRTX A6000       \u001b[m |\u001b[31m 44'C\u001b[m, \u001b[32m  0 %\u001b[m | \u001b[36m\u001b[1m\u001b[33m    1\u001b[m / \u001b[33m48685\u001b[m MB |\r\n",
      "\u001b[36m[4]\u001b[m \u001b[34mRTX A6000       \u001b[m |\u001b[31m 29'C\u001b[m, \u001b[32m  0 %\u001b[m | \u001b[36m\u001b[1m\u001b[33m    1\u001b[m / \u001b[33m48685\u001b[m MB |\r\n",
      "\u001b[36m[5]\u001b[m \u001b[34mRTX A6000       \u001b[m |\u001b[31m 28'C\u001b[m, \u001b[32m  0 %\u001b[m | \u001b[36m\u001b[1m\u001b[33m    1\u001b[m / \u001b[33m48685\u001b[m MB |\r\n",
      "\u001b[36m[6]\u001b[m \u001b[34mRTX A6000       \u001b[m |\u001b[31m 30'C\u001b[m, \u001b[32m  0 %\u001b[m | \u001b[36m\u001b[1m\u001b[33m    1\u001b[m / \u001b[33m48685\u001b[m MB |\r\n",
      "\u001b[36m[7]\u001b[m \u001b[34mRTX A6000       \u001b[m |\u001b[31m 34'C\u001b[m, \u001b[32m  0 %\u001b[m | \u001b[36m\u001b[1m\u001b[33m    1\u001b[m / \u001b[33m48685\u001b[m MB |\r\n"
     ]
    }
   ],
   "source": [
    "!gpustat"
   ]
  },
  {
   "cell_type": "code",
   "execution_count": 2,
   "metadata": {},
   "outputs": [],
   "source": [
    "import os\n",
    "os.environ[\"CUDA_VISIBLE_DEVICES\"] = \"7\""
   ]
  },
  {
   "cell_type": "code",
   "execution_count": 3,
   "metadata": {},
   "outputs": [],
   "source": [
    "import numpy as onp\n",
    "from numpy import fft\n",
    "import jax.numpy as np\n",
    "from jax import random, grad, vmap, jit, lax\n",
    "from jax.experimental import optimizers\n",
    "from jax.experimental.optimizers import make_schedule\n",
    "from jax.experimental.ode import odeint\n",
    "from jax.nn import relu, leaky_relu, swish, sigmoid\n",
    "from jax.config import config\n",
    "\n",
    "import itertools\n",
    "from functools import partial\n",
    "from torch.utils import data\n",
    "from tqdm import trange\n",
    "import matplotlib.pyplot as plt\n",
    "from scipy.interpolate import griddata\n",
    "\n",
    "from jax import jacobian, eval_shape\n",
    "from jax.tree_util import tree_map, tree_multimap, tree_reduce \n",
    "from jax.flatten_util import ravel_pytree\n",
    "from jax.ops import index_update, index\n",
    "\n",
    "from jaxpinns.optimizers import mdmm_adam\n",
    "\n",
    "import neural_tangents as nt\n",
    "import operator\n",
    "\n",
    "from jax.scipy.stats.norm import logpdf, pdf\n",
    "\n",
    "\n",
    "from tqdm import trange, tqdm\n",
    "\n",
    "import time\n",
    "%matplotlib inline\n",
    "from IPython.display import clear_output"
   ]
  },
  {
   "cell_type": "code",
   "execution_count": 4,
   "metadata": {},
   "outputs": [],
   "source": [
    "exec(open('../helpers.py').read())"
   ]
  },
  {
   "cell_type": "code",
   "execution_count": 5,
   "metadata": {},
   "outputs": [],
   "source": [
    "plt.rcParams.update(plt.rcParamsDefault)\n",
    "plt.rc('font', family='serif')\n",
    "plt.rcParams.update({'font.size': 16,\n",
    "                        'lines.linewidth': 2,\n",
    "                        'axes.labelsize': 10,\n",
    "                        'axes.titlesize': 16,\n",
    "                        'xtick.labelsize': 10,\n",
    "                        'ytick.labelsize': 10,\n",
    "                        'legend.fontsize': 10,\n",
    "                        'axes.linewidth': 2})"
   ]
  },
  {
   "cell_type": "code",
   "execution_count": 6,
   "metadata": {},
   "outputs": [],
   "source": [
    "key = random.PRNGKey(1234)"
   ]
  },
  {
   "cell_type": "code",
   "execution_count": 7,
   "metadata": {},
   "outputs": [],
   "source": [
    "X = np.array(np.meshgrid(np.linspace(-1,1,20), np.linspace(-1,1,20))).transpose(1,2,0).reshape(-1,2)\n",
    "mu_X, sigma_X = X.mean(0), X.std(0)\n",
    "X = (X - mu_X) / sigma_X"
   ]
  },
  {
   "cell_type": "code",
   "execution_count": 8,
   "metadata": {},
   "outputs": [],
   "source": [
    "layers = [X.shape[1], 32, 32, 1]\n",
    "activation = np.tanh\n",
    "init_model = initNet(layers[:-1], activation = activation)"
   ]
  },
  {
   "cell_type": "code",
   "execution_count": 13,
   "metadata": {},
   "outputs": [],
   "source": [
    "loss = lambda w1, w2: init_model.regulated_logSineLoss(((w1, 0.), (w2, 0.)),init_model.net_params,X,1e-5)"
   ]
  },
  {
   "cell_type": "code",
   "execution_count": 14,
   "metadata": {},
   "outputs": [],
   "source": [
    "w1s, w2s = np.meshgrid(np.linspace(0.1, 50, 25), np.linspace(0.1, 50, 25))"
   ]
  },
  {
   "cell_type": "code",
   "execution_count": 15,
   "metadata": {},
   "outputs": [],
   "source": [
    "loss_val = vmap(vmap(loss))(w1s, w2s)"
   ]
  },
  {
   "cell_type": "code",
   "execution_count": 16,
   "metadata": {},
   "outputs": [
    {
     "data": {
      "image/png": "[encoded data removed]",
      "text/plain": [
       "<Figure size 400x300 with 2 Axes>"
      ]
     },
     "metadata": {},
     "output_type": "display_data"
    }
   ],
   "source": [
    "plt.figure(figsize = (4,3))\n",
    "plt.contourf(w1s, w2s, np.log(loss_val))\n",
    "plt.colorbar()\n",
    "plt.yscale('log')\n",
    "plt.xscale('log')\n",
    "plt.show()\n",
    "plt.close()"
   ]
  }
 ],
 "metadata": {
  "kernelspec": {
   "display_name": "Python 3",
   "language": "python",
   "name": "python3"
  },
  "language_info": {
   "codemirror_mode": {
    "name": "ipython",
    "version": 3
   },
   "file_extension": ".py",
   "mimetype": "text/x-python",
   "name": "python",
   "nbconvert_exporter": "python",
   "pygments_lexer": "ipython3",
   "version": "3.8.5"
  }
 },
 "nbformat": 4,
 "nbformat_minor": 4
}
