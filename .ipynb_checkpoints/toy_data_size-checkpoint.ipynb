{
 "cells": [
  {
   "cell_type": "code",
   "execution_count": 1,
   "metadata": {},
   "outputs": [
    {
     "name": "stdout",
     "output_type": "stream",
     "text": [
      "\u001b[1m\u001b[37mblade.seas.upenn.edu\u001b[m  Tue Aug 10 13:40:03 2021  \u001b[1m\u001b[30m455.45.01\u001b[m\r\n",
      "\u001b[36m[0]\u001b[m \u001b[34mRTX A6000       \u001b[m |\u001b[1m\u001b[31m 82'C\u001b[m, \u001b[1m\u001b[32m 98 %\u001b[m | \u001b[36m\u001b[1m\u001b[33m44894\u001b[m / \u001b[33m48685\u001b[m MB | \u001b[1m\u001b[30mwangh19\u001b[m(\u001b[33m44891M\u001b[m)\r\n",
      "\u001b[36m[1]\u001b[m \u001b[34mRTX A6000       \u001b[m |\u001b[31m 27'C\u001b[m, \u001b[32m  0 %\u001b[m | \u001b[36m\u001b[1m\u001b[33m    1\u001b[m / \u001b[33m48685\u001b[m MB |\r\n",
      "\u001b[36m[2]\u001b[m \u001b[34mRTX A6000       \u001b[m |\u001b[31m 29'C\u001b[m, \u001b[32m  0 %\u001b[m | \u001b[36m\u001b[1m\u001b[33m    1\u001b[m / \u001b[33m48685\u001b[m MB |\r\n",
      "\u001b[36m[3]\u001b[m \u001b[34mRTX A6000       \u001b[m |\u001b[31m 26'C\u001b[m, \u001b[32m  0 %\u001b[m | \u001b[36m\u001b[1m\u001b[33m    1\u001b[m / \u001b[33m48685\u001b[m MB |\r\n",
      "\u001b[36m[4]\u001b[m \u001b[34mRTX A6000       \u001b[m |\u001b[31m 26'C\u001b[m, \u001b[32m  0 %\u001b[m | \u001b[36m\u001b[1m\u001b[33m    1\u001b[m / \u001b[33m48685\u001b[m MB |\r\n",
      "\u001b[36m[5]\u001b[m \u001b[34mRTX A6000       \u001b[m |\u001b[31m 25'C\u001b[m, \u001b[32m  0 %\u001b[m | \u001b[36m\u001b[1m\u001b[33m    1\u001b[m / \u001b[33m48685\u001b[m MB |\r\n",
      "\u001b[36m[6]\u001b[m \u001b[34mRTX A6000       \u001b[m |\u001b[31m 26'C\u001b[m, \u001b[32m  0 %\u001b[m | \u001b[36m\u001b[1m\u001b[33m    1\u001b[m / \u001b[33m48685\u001b[m MB |\r\n",
      "\u001b[36m[7]\u001b[m \u001b[34mRTX A6000       \u001b[m |\u001b[31m 25'C\u001b[m, \u001b[32m  0 %\u001b[m | \u001b[36m\u001b[1m\u001b[33m    1\u001b[m / \u001b[33m48685\u001b[m MB |\r\n"
     ]
    }
   ],
   "source": [
    "!gpustat"
   ]
  },
  {
   "cell_type": "code",
   "execution_count": 2,
   "metadata": {},
   "outputs": [],
   "source": [
    "import os\n",
    "os.environ[\"CUDA_VISIBLE_DEVICES\"] = \"1\""
   ]
  },
  {
   "cell_type": "code",
   "execution_count": 3,
   "metadata": {},
   "outputs": [],
   "source": [
    "import numpy as onp\n",
    "from numpy import fft\n",
    "import jax.numpy as np\n",
    "from jax import random, grad, vmap, jit, lax, pmap\n",
    "from jax.experimental import optimizers\n",
    "from jax.experimental.optimizers import make_schedule\n",
    "from jax.experimental.ode import odeint\n",
    "from jax.nn import relu, leaky_relu, swish, sigmoid\n",
    "from jax.config import config\n",
    "\n",
    "import itertools\n",
    "from functools import partial\n",
    "from torch.utils import data\n",
    "from tqdm import trange\n",
    "import matplotlib.pyplot as plt\n",
    "from scipy.interpolate import griddata\n",
    "\n",
    "from jax import jacobian, eval_shape\n",
    "from jax.tree_util import tree_map, tree_multimap, tree_reduce \n",
    "from jax.flatten_util import ravel_pytree\n",
    "from jax.ops import index_update, index\n",
    "\n",
    "from jaxpinns.optimizers import mdmm_adam\n",
    "\n",
    "import neural_tangents as nt\n",
    "import operator\n",
    "\n",
    "from jax.scipy.stats.norm import logpdf, pdf\n",
    "\n",
    "\n",
    "from tqdm import trange, tqdm\n",
    "\n",
    "import time\n",
    "%matplotlib inline\n",
    "from IPython.display import clear_output"
   ]
  },
  {
   "cell_type": "code",
   "execution_count": 4,
   "metadata": {},
   "outputs": [],
   "source": [
    "path = 'toy/'"
   ]
  },
  {
   "cell_type": "code",
   "execution_count": 5,
   "metadata": {},
   "outputs": [],
   "source": [
    "plt.rcParams.update(plt.rcParamsDefault)\n",
    "plt.rc('font', family='serif')\n",
    "plt.rcParams.update({'font.size': 16,\n",
    "                        'lines.linewidth': 2,\n",
    "                        'axes.labelsize': 10,\n",
    "                        'axes.titlesize': 16,\n",
    "                        'xtick.labelsize': 10,\n",
    "                        'ytick.labelsize': 10,\n",
    "                        'legend.fontsize': 10,\n",
    "                        'axes.linewidth': 2})"
   ]
  },
  {
   "cell_type": "code",
   "execution_count": 6,
   "metadata": {},
   "outputs": [],
   "source": [
    "from helpers import *"
   ]
  },
  {
   "cell_type": "code",
   "execution_count": 7,
   "metadata": {},
   "outputs": [],
   "source": [
    "key = random.PRNGKey(1234)"
   ]
  },
  {
   "cell_type": "code",
   "execution_count": 8,
   "metadata": {},
   "outputs": [],
   "source": [
    "def fun_gen(key, freq, N):\n",
    "    def fun(X):\n",
    "        components = (np.array([A * np.sin(f * np.pi * X) for A, f in zip(2 * random.uniform(key, shape = (N,)), freq * random.uniform(random.split(key)[0],shape = (N,)))]))\n",
    "        return components.sum((0))\n",
    "    return fun\n",
    "        "
   ]
  },
  {
   "cell_type": "code",
   "execution_count": 9,
   "metadata": {},
   "outputs": [],
   "source": [
    "X_raw = random.uniform(key, shape = (1024, 1), minval = -1, maxval = 1)\n",
    "\n",
    "mu_X, sigma_X = X_raw.mean(0), X_raw.std(0)\n",
    "X = (X_raw - mu_X) / sigma_X"
   ]
  },
  {
   "cell_type": "code",
   "execution_count": 10,
   "metadata": {},
   "outputs": [],
   "source": [
    "layers = [X.shape[1], *[32 for _ in range(4)], 1]\n",
    "activation = np.tanh\n",
    "fit_model = MLPRegression(layers, activation = activation)"
   ]
  },
  {
   "cell_type": "code",
   "execution_count": 11,
   "metadata": {
    "scrolled": true
   },
   "outputs": [],
   "source": [
    "init_model = initNet(layers[:-1], activation = activation)\n",
    "#init_model.plot_degree(init_model.scale_params, fit_model.net_params[:-1], X, word = False)"
   ]
  },
  {
   "cell_type": "code",
   "execution_count": 12,
   "metadata": {},
   "outputs": [],
   "source": [
    "lr = 5e-3\n",
    "init_fn, update_fn, get_params = optimizers.adam(lr)\n",
    "# init_fn, update_fn, get_params = optimizers.nesterov(lr, 0.9)\n",
    "lam = 1e-3\n",
    "@jit\n",
    "def step(i, state, X):\n",
    "    key = random.PRNGKey(i)\n",
    "    g = grad(init_model.regulated_logSineLoss)(get_params(state), init_model.net_init(key), X, lam = lam)\n",
    "    return update_fn(i, g, state)"
   ]
  },
  {
   "cell_type": "code",
   "execution_count": 13,
   "metadata": {},
   "outputs": [
    {
     "name": "stderr",
     "output_type": "stream",
     "text": [
      "100%|██████████| 10000/10000 [00:07<00:00, 1356.10it/s, Log sine loss=0.27701253]\n"
     ]
    }
   ],
   "source": [
    "opt_state = init_fn(init_model.scale_params)\n",
    "init_nIter = 10000\n",
    "pbar = trange(init_nIter)\n",
    "scale_stor = []\n",
    "bias_stor = []\n",
    "\n",
    "for i in pbar:\n",
    "    opt_state = step(i, opt_state, X)\n",
    "    \n",
    "    if i % 100 == 0:\n",
    "        params = get_params(opt_state)\n",
    "        pbar.set_postfix({'Log sine loss': init_model.logSineLoss(get_params(opt_state), init_model.net_init(random.PRNGKey(i)), X)})\n",
    "        scale_stor.append([w for (w, b) in params])\n",
    "        bias_stor.append([b for (w, b) in params])\n",
    "        \n",
    "\n",
    "scale_stor = np.array(scale_stor)\n",
    "bias_stor = np.array(bias_stor)\n",
    "        \n"
   ]
  },
  {
   "cell_type": "code",
   "execution_count": 14,
   "metadata": {},
   "outputs": [],
   "source": [
    "scale_params = params"
   ]
  },
  {
   "cell_type": "code",
   "execution_count": 15,
   "metadata": {},
   "outputs": [
    {
     "data": {
      "image/png": "[encoded data removed]",
      "text/plain": [
       "<Figure size 400x300 with 1 Axes>"
      ]
     },
     "metadata": {},
     "output_type": "display_data"
    },
    {
     "data": {
      "image/png": "[encoded data removed]",
      "text/plain": [
       "<Figure size 400x300 with 1 Axes>"
      ]
     },
     "metadata": {},
     "output_type": "display_data"
    }
   ],
   "source": [
    "plt.figure(figsize = (4,3))\n",
    "\n",
    "plt.plot([w_init for w_init, b_init in scale_params], label = 'final')\n",
    "plt.plot([w_init for w_init, b_init in init_model.scale_params], label = 'initial')\n",
    "\n",
    "plt.yscale('log')\n",
    "plt.xlabel('layers')\n",
    "plt.legend()\n",
    "plt.title('weight scale')\n",
    "plt.tight_layout()\n",
    "\n",
    "plt.show()\n",
    "plt.close()\n",
    "\n",
    "plt.figure(figsize = (4,3))\n",
    "\n",
    "plt.plot([b_init for w_init, b_init in scale_params], label = 'final')\n",
    "plt.plot([b_init for w_init, b_init in init_model.scale_params], label = 'initial')\n",
    "\n",
    "plt.xlabel('layers')\n",
    "plt.legend()\n",
    "plt.title('bias')\n",
    "plt.tight_layout()\n",
    "\n",
    "plt.show()\n",
    "plt.close()"
   ]
  },
  {
   "cell_type": "code",
   "execution_count": 16,
   "metadata": {},
   "outputs": [],
   "source": [
    "fit_model.scaled_net_params = parameter_scaling(fit_model.net_params[:-1], scale_params) + [fit_model.net_params[-1]]"
   ]
  },
  {
   "cell_type": "code",
   "execution_count": 17,
   "metadata": {},
   "outputs": [],
   "source": [
    "init_fn, update_fn, get_params = optimizers.adam(optimizers.exponential_decay(1e-3, decay_steps = 100, decay_rate = 0.99))\n",
    "\n",
    "@jit\n",
    "def step(i, state, batch):\n",
    "    g = grad(fit_model.loss)(get_params(state), batch)\n",
    "    return update_fn(i, g, state)"
   ]
  },
  {
   "cell_type": "code",
   "execution_count": 49,
   "metadata": {},
   "outputs": [
    {
     "data": {
      "image/png": "[encoded data removed]",
      "text/plain": [
       "<Figure size 400x300 with 1 Axes>"
      ]
     },
     "metadata": {},
     "output_type": "display_data"
    }
   ],
   "source": [
    "max_freq = 32\n",
    "N_freq = 4\n",
    "\n",
    "key = random.PRNGKey(1234)\n",
    "\n",
    "target_fn = fun_gen(key, max_freq, N_freq)\n",
    "\n",
    "X = np.linspace(-1,1,800).reshape(-1,1)\n",
    "Y = target_fn(X)\n",
    "\n",
    "\n",
    "nIter = 80000\n",
    "\n",
    "plt.figure(figsize = (4,3))\n",
    "plt.plot((X - X.mean(0)) / X.std(0), (Y - Y.mean(0)) / Y.std(0))\n",
    "plt.tight_layout()\n",
    "plt.savefig(path + f'_data_size_target_{max_freq}.pdf', dpi = 200)\n",
    "plt.show()\n",
    "plt.close()"
   ]
  },
  {
   "cell_type": "code",
   "execution_count": 58,
   "metadata": {},
   "outputs": [
    {
     "name": "stderr",
     "output_type": "stream",
     "text": [
      "100%|██████████| 80000/80000 [00:31<00:00, 2511.13it/s, Mean train error, Xavier=0.010573176, Mean train error, Scaled=0.0030566]    \n",
      "  0%|          | 0/80000 [00:00<?, ?it/s]"
     ]
    },
    {
     "name": "stdout",
     "output_type": "stream",
     "text": [
      "{'Data size': 32, 'Xavier': '1.42e+00', 'Scaled': '1.39e+00'}\n"
     ]
    },
    {
     "name": "stderr",
     "output_type": "stream",
     "text": [
      "100%|██████████| 80000/80000 [00:31<00:00, 2561.67it/s, Mean train error, Xavier=0.06490014, Mean train error, Scaled=0.008906413]  \n",
      "  0%|          | 0/80000 [00:00<?, ?it/s]"
     ]
    },
    {
     "name": "stdout",
     "output_type": "stream",
     "text": [
      "{'Data size': 64, 'Xavier': '1.10e+00', 'Scaled': '1.43e+00'}\n"
     ]
    },
    {
     "name": "stderr",
     "output_type": "stream",
     "text": [
      "100%|██████████| 80000/80000 [00:31<00:00, 2573.56it/s, Mean train error, Xavier=0.33040437, Mean train error, Scaled=0.06572664] \n",
      "  0%|          | 0/80000 [00:00<?, ?it/s]"
     ]
    },
    {
     "name": "stdout",
     "output_type": "stream",
     "text": [
      "{'Data size': 128, 'Xavier': '6.38e-01', 'Scaled': '7.09e-01'}\n"
     ]
    },
    {
     "name": "stderr",
     "output_type": "stream",
     "text": [
      "100%|██████████| 80000/80000 [00:30<00:00, 2583.14it/s, Mean train error, Xavier=0.3526596, Mean train error, Scaled=0.09628425]  \n",
      "  0%|          | 0/80000 [00:00<?, ?it/s]"
     ]
    },
    {
     "name": "stdout",
     "output_type": "stream",
     "text": [
      "{'Data size': 256, 'Xavier': '4.36e-01', 'Scaled': '1.74e-01'}\n"
     ]
    },
    {
     "name": "stderr",
     "output_type": "stream",
     "text": [
      "100%|██████████| 80000/80000 [00:30<00:00, 2608.67it/s, Mean train error, Xavier=0.39320698, Mean train error, Scaled=0.061855122]\n",
      "  0%|          | 0/80000 [00:00<?, ?it/s]"
     ]
    },
    {
     "name": "stdout",
     "output_type": "stream",
     "text": [
      "{'Data size': 512, 'Xavier': '4.22e-01', 'Scaled': '9.76e-02'}\n"
     ]
    },
    {
     "name": "stderr",
     "output_type": "stream",
     "text": [
      "100%|██████████| 80000/80000 [00:31<00:00, 2562.25it/s, Mean train error, Xavier=0.24978568, Mean train error, Scaled=0.04135635] \n",
      "  0%|          | 0/80000 [00:00<?, ?it/s]"
     ]
    },
    {
     "name": "stdout",
     "output_type": "stream",
     "text": [
      "{'Data size': 1024, 'Xavier': '2.64e-01', 'Scaled': '4.97e-02'}\n"
     ]
    },
    {
     "name": "stderr",
     "output_type": "stream",
     "text": [
      "100%|██████████| 80000/80000 [00:45<00:00, 1739.71it/s, Mean train error, Xavier=0.25731462, Mean train error, Scaled=0.07535097] \n"
     ]
    },
    {
     "name": "stdout",
     "output_type": "stream",
     "text": [
      "{'Data size': 2048, 'Xavier': '2.67e-01', 'Scaled': '7.81e-02'}\n"
     ]
    },
    {
     "name": "stderr",
     "output_type": "stream",
     "text": [
      " 30%|███       | 24276/80000 [00:27<01:02, 893.61it/s, Mean train error, Xavier=0.39709496, Mean train error, Scaled=0.11344192]\n"
     ]
    },
    {
     "ename": "KeyboardInterrupt",
     "evalue": "",
     "output_type": "error",
     "traceback": [
      "\u001b[0;31m---------------------------------------------------------------------------\u001b[0m",
      "\u001b[0;31mKeyboardInterrupt\u001b[0m                         Traceback (most recent call last)",
      "\u001b[0;32m<ipython-input-58-424d8cfed44c>\u001b[0m in \u001b[0;36m<module>\u001b[0;34m\u001b[0m\n\u001b[1;32m     43\u001b[0m \u001b[0;34m\u001b[0m\u001b[0m\n\u001b[1;32m     44\u001b[0m     \u001b[0;32mfor\u001b[0m \u001b[0mi\u001b[0m \u001b[0;32min\u001b[0m \u001b[0mpbar\u001b[0m\u001b[0;34m:\u001b[0m\u001b[0;34m\u001b[0m\u001b[0;34m\u001b[0m\u001b[0m\n\u001b[0;32m---> 45\u001b[0;31m         \u001b[0mopt_states\u001b[0m \u001b[0;34m=\u001b[0m \u001b[0mv_step\u001b[0m\u001b[0;34m(\u001b[0m\u001b[0mi\u001b[0m\u001b[0;34m,\u001b[0m \u001b[0mopt_states\u001b[0m\u001b[0;34m,\u001b[0m \u001b[0mtrain_batch\u001b[0m\u001b[0;34m)\u001b[0m\u001b[0;34m\u001b[0m\u001b[0;34m\u001b[0m\u001b[0m\n\u001b[0m\u001b[1;32m     46\u001b[0m         \u001b[0;32mif\u001b[0m \u001b[0mi\u001b[0m \u001b[0;34m%\u001b[0m \u001b[0;36m1000\u001b[0m \u001b[0;34m==\u001b[0m \u001b[0;36m0\u001b[0m\u001b[0;34m:\u001b[0m\u001b[0;34m\u001b[0m\u001b[0;34m\u001b[0m\u001b[0m\n\u001b[1;32m     47\u001b[0m             \u001b[0mell\u001b[0m \u001b[0;34m=\u001b[0m \u001b[0mopt_error\u001b[0m\u001b[0;34m(\u001b[0m\u001b[0mopt_states\u001b[0m\u001b[0;34m,\u001b[0m \u001b[0mtrain_batch\u001b[0m\u001b[0;34m)\u001b[0m\u001b[0;34m\u001b[0m\u001b[0;34m\u001b[0m\u001b[0m\n",
      "\u001b[0;32m/scratch/wangh19/anaconda3/lib/python3.8/site-packages/jax/experimental/optimizers.py\u001b[0m in \u001b[0;36m<lambda>\u001b[0;34m(data, xs)\u001b[0m\n\u001b[1;32m    109\u001b[0m     \u001b[0mOptimizerState\u001b[0m\u001b[0;34m,\u001b[0m\u001b[0;34m\u001b[0m\u001b[0;34m\u001b[0m\u001b[0m\n\u001b[1;32m    110\u001b[0m     \u001b[0;32mlambda\u001b[0m \u001b[0mxs\u001b[0m\u001b[0;34m:\u001b[0m \u001b[0;34m(\u001b[0m\u001b[0;34m(\u001b[0m\u001b[0mxs\u001b[0m\u001b[0;34m.\u001b[0m\u001b[0mpacked_state\u001b[0m\u001b[0;34m,\u001b[0m\u001b[0;34m)\u001b[0m\u001b[0;34m,\u001b[0m \u001b[0;34m(\u001b[0m\u001b[0mxs\u001b[0m\u001b[0;34m.\u001b[0m\u001b[0mtree_def\u001b[0m\u001b[0;34m,\u001b[0m \u001b[0mxs\u001b[0m\u001b[0;34m.\u001b[0m\u001b[0msubtree_defs\u001b[0m\u001b[0;34m)\u001b[0m\u001b[0;34m)\u001b[0m\u001b[0;34m,\u001b[0m\u001b[0;34m\u001b[0m\u001b[0;34m\u001b[0m\u001b[0m\n\u001b[0;32m--> 111\u001b[0;31m     lambda data, xs: OptimizerState(xs[0], data[0], data[1]))\n\u001b[0m\u001b[1;32m    112\u001b[0m \u001b[0;34m\u001b[0m\u001b[0m\n\u001b[1;32m    113\u001b[0m \u001b[0;34m\u001b[0m\u001b[0m\n",
      "\u001b[0;31mKeyboardInterrupt\u001b[0m: "
     ]
    }
   ],
   "source": [
    "train_errors = []\n",
    "test_errors = []\n",
    "\n",
    "init_size = 8\n",
    "\n",
    "opt_error = jit(lambda opt_states, batch: vmap(fit_model.l2_error, in_axes = [0, None])(vmap(get_params)(opt_states), batch))\n",
    "\n",
    "data_sizes = 2 ** np.arange(4, 13).astype(int)\n",
    "for data_size in data_sizes:\n",
    "    key,_ = random.split(key)\n",
    "\n",
    "    X_train = random.uniform(key, shape = (data_size, 1), minval = -1, maxval = 1)\n",
    "\n",
    "    Y_train = target_fn(X_train)\n",
    "#     Y_train = Y_train + random.normal(random.split(key)[0], shape = Y_train.shape)*Y.std(0)*0.05\n",
    "    \n",
    "    mu_X, sigma_X = X_train.mean(0), X_train.std(0)\n",
    "    X_train = (X_train - mu_X) / sigma_X\n",
    "\n",
    "    mu_Y, sigma_Y = Y_train.mean(0), Y_train.std(0)\n",
    "    Y_train = (Y_train - mu_Y) / sigma_Y\n",
    "\n",
    "    train_batch = (X_train, Y_train)\n",
    "    \n",
    "    X_test = (X - mu_X) / sigma_X\n",
    "    Y_test = (Y - mu_Y) / sigma_Y\n",
    "    \n",
    "\n",
    "    key,_ = random.split(key)\n",
    "\n",
    "    init_paramses = vmap(fit_model.net_init)(random.split(key, init_size))\n",
    "    scaled_init_paramses = vmap(full_scaling, in_axes = (0, None))(init_paramses, scale_params)\n",
    "\n",
    "    stacked_init_paramses = tree_multimap(cat_fn, init_paramses, scaled_init_paramses)\n",
    "\n",
    "    opt_states = vmap(init_fn)(stacked_init_paramses)\n",
    "\n",
    "    v_step = jit(vmap(step, in_axes = [None, 0, None]))\n",
    "\n",
    "\n",
    "    pbar = trange(nIter)\n",
    "    \n",
    "        \n",
    "    for i in pbar:\n",
    "        opt_states = v_step(i, opt_states, train_batch)\n",
    "        if i % 1000 == 0:\n",
    "            ell = opt_error(opt_states, train_batch)\n",
    "            pbar.set_postfix({'Mean train error, Xavier': ell[:init_size].mean(0), 'Mean train error, Scaled': ell[init_size:].mean(0)})\n",
    "  \n",
    "    \n",
    "    train_errors.append(opt_error(opt_states, train_batch))\n",
    "    test_errors.append(opt_error(opt_states, (X_test, Y_test)))\n",
    "    print({'Data size': data_size,\\\n",
    "                      'Xavier': f'{test_errors[-1][:init_size].mean():.2e}',\\\n",
    "                      'Scaled': f'{test_errors[-1][init_size:].mean():.2e}'})\n",
    "    np.save(path + f'_data_size_train_test_errors_{max_freq}.npy', np.array((train_errors, test_errors)))\n",
    "    \n",
    "\n",
    "        \n",
    "train_errors = np.array(train_errors)\n",
    "\n",
    "test_errors = np.array(test_errors)"
   ]
  },
  {
   "cell_type": "code",
   "execution_count": null,
   "metadata": {},
   "outputs": [],
   "source": [
    "train_errors, test_errors = np.load(path + f'_data_size_train_test_errors_{max_freq}.npy')\n",
    "sizes = data_sizes[:train_errors.shape[0]]"
   ]
  },
  {
   "cell_type": "code",
   "execution_count": null,
   "metadata": {},
   "outputs": [],
   "source": [
    "plt.figure(figsize = (12,3))\n",
    "plt.subplot(1,3,1)\n",
    "plt.plot(sizes, np.median(train_errors[:,:init_size], axis = 1), marker = 'd', linestyle = '--', label = 'Xavier')\n",
    "plt.fill_between(sizes, *np.quantile(train_errors[:,:init_size], np.array([0.1, 0.9]), axis = 1), alpha = 0.2)\n",
    "plt.plot(sizes, np.median(train_errors[:,init_size:], axis = 1), marker = '^', linestyle = '--', label = 'Scaled')\n",
    "plt.fill_between(sizes, *np.quantile(train_errors[:,init_size:], np.array([0.1, 0.9]), axis = 1), alpha = 0.2)\n",
    "plt.xlabel('Data size')\n",
    "plt.ylabel(r'Rel. $L_2$')\n",
    "plt.legend()\n",
    "plt.yscale('log')\n",
    "plt.xscale('log')\n",
    "plt.title('Train errors')\n",
    "# plt.ylim([5e-3, 1])\n",
    "plt.tight_layout()\n",
    "plt.subplot(1,3,2)\n",
    "plt.plot(sizes, np.median(test_errors[:,:init_size], axis = 1), marker = 'd', linestyle = '--', label = 'Xavier')\n",
    "plt.fill_between(sizes, *np.quantile(test_errors[:,:init_size], np.array([0.1, 0.9]), axis = 1), alpha = 0.2)\n",
    "plt.plot(sizes, np.median(test_errors[:,init_size:], axis = 1), marker = '^', linestyle = '--', label = 'Scaled')\n",
    "plt.fill_between(sizes, *np.quantile(test_errors[:,init_size:], np.array([0.1, 0.9]), axis = 1), alpha = 0.2)\n",
    "plt.legend()\n",
    "plt.yscale('log')\n",
    "plt.xscale('log')\n",
    "plt.title('Test errors')\n",
    "plt.xlabel('Data size')\n",
    "plt.ylabel(r'Rel. $L_2$')\n",
    "# plt.ylim([5e-3, 1])\n",
    "plt.tight_layout()\n",
    "\n",
    "plt.subplot(1,3,3)\n",
    "plt.plot(sizes, np.median(test_errors[:,:init_size], axis = 1),\\\n",
    "         marker = 'd', label = 'Xavier, Test')\n",
    "plt.plot(sizes, np.median(train_errors[:,:init_size], axis = 1),\\\n",
    "                  marker = 'd', linestyle = '--', label = 'Xavier, Train')\n",
    "\n",
    "plt.plot(sizes, np.median(test_errors[:,init_size:], axis = 1),\\\n",
    "         marker = '^', label = 'Scaled, Test')\n",
    "\n",
    "plt.plot(sizes, np.median(train_errors[:,init_size:], axis = 1),\\\n",
    "         marker = '^', linestyle = '--', label = 'Scaled, Train')\n",
    "\n",
    "plt.xlabel('Data size')\n",
    "plt.ylabel(r'Rel. $L_2$')\n",
    "plt.yscale('log')\n",
    "plt.xscale('log')\n",
    "# plt.ylim([5e-3, 1])\n",
    "plt.title('Train and Test errors')\n",
    "plt.legend(bbox_to_anchor = [1., 1.])\n",
    "\n",
    "plt.tight_layout()\n",
    "\n",
    "plt.savefig(path + f'_data_size_errors_{max_freq}.pdf', dpi = 200)\n",
    "plt.show()\n",
    "plt.close()"
   ]
  }
 ],
 "metadata": {
  "kernelspec": {
   "display_name": "Python 3",
   "language": "python",
   "name": "python3"
  },
  "language_info": {
   "codemirror_mode": {
    "name": "ipython",
    "version": 3
   },
   "file_extension": ".py",
   "mimetype": "text/x-python",
   "name": "python",
   "nbconvert_exporter": "python",
   "pygments_lexer": "ipython3",
   "version": "3.8.5"
  }
 },
 "nbformat": 4,
 "nbformat_minor": 4
}
