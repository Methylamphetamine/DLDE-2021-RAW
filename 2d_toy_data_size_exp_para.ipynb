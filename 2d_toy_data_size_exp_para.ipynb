{
 "cells": [
  {
   "cell_type": "code",
   "execution_count": 1,
   "metadata": {},
   "outputs": [
    {
     "name": "stdout",
     "output_type": "stream",
     "text": [
      "\u001b[1m\u001b[37mblade.seas.upenn.edu\u001b[m  Thu Sep  9 19:45:24 2021  \u001b[1m\u001b[30m455.45.01\u001b[m\r\n",
      "\u001b[36m[0]\u001b[m \u001b[34mRTX A6000       \u001b[m |\u001b[31m 41'C\u001b[m, \u001b[1m\u001b[32m100 %\u001b[m | \u001b[36m\u001b[1m\u001b[33m    1\u001b[m / \u001b[33m48685\u001b[m MB |\r\n",
      "\u001b[36m[1]\u001b[m \u001b[34mRTX A6000       \u001b[m |\u001b[1m\u001b[31m 81'C\u001b[m, \u001b[1m\u001b[32m 99 %\u001b[m | \u001b[36m\u001b[1m\u001b[33m45206\u001b[m / \u001b[33m48685\u001b[m MB | \u001b[1m\u001b[30msifanw\u001b[m(\u001b[33m45203M\u001b[m)\r\n",
      "\u001b[36m[2]\u001b[m \u001b[34mRTX A6000       \u001b[m |\u001b[1m\u001b[31m 84'C\u001b[m, \u001b[1m\u001b[32m 99 %\u001b[m | \u001b[36m\u001b[1m\u001b[33m45206\u001b[m / \u001b[33m48685\u001b[m MB | \u001b[1m\u001b[30msifanw\u001b[m(\u001b[33m45203M\u001b[m)\r\n",
      "\u001b[36m[3]\u001b[m \u001b[34mRTX A6000       \u001b[m |\u001b[1m\u001b[31m 50'C\u001b[m, \u001b[32m 23 %\u001b[m | \u001b[36m\u001b[1m\u001b[33m 1426\u001b[m / \u001b[33m48685\u001b[m MB | \u001b[1m\u001b[30mgkissas\u001b[m(\u001b[33m1423M\u001b[m)\r\n",
      "\u001b[36m[4]\u001b[m \u001b[34mRTX A6000       \u001b[m |\u001b[1m\u001b[31m 59'C\u001b[m, \u001b[32m 25 %\u001b[m | \u001b[36m\u001b[1m\u001b[33m 1426\u001b[m / \u001b[33m48685\u001b[m MB | \u001b[1m\u001b[30mgkissas\u001b[m(\u001b[33m1423M\u001b[m)\r\n",
      "\u001b[36m[5]\u001b[m \u001b[34mRTX A6000       \u001b[m |\u001b[31m 29'C\u001b[m, \u001b[32m  0 %\u001b[m | \u001b[36m\u001b[1m\u001b[33m44510\u001b[m / \u001b[33m48685\u001b[m MB | \u001b[1m\u001b[30mshyamss\u001b[m(\u001b[33m44507M\u001b[m)\r\n",
      "\u001b[36m[6]\u001b[m \u001b[34mRTX A6000       \u001b[m |\u001b[31m 37'C\u001b[m, \u001b[32m  0 %\u001b[m | \u001b[36m\u001b[1m\u001b[33m    1\u001b[m / \u001b[33m48685\u001b[m MB |\r\n",
      "\u001b[36m[7]\u001b[m \u001b[34mRTX A6000       \u001b[m |\u001b[1m\u001b[31m 84'C\u001b[m, \u001b[1m\u001b[32m 98 %\u001b[m | \u001b[36m\u001b[1m\u001b[33m46158\u001b[m / \u001b[33m48685\u001b[m MB | \u001b[1m\u001b[30mwangh19\u001b[m(\u001b[33m46151M\u001b[m)\r\n"
     ]
    }
   ],
   "source": [
    "!gpustat"
   ]
  },
  {
   "cell_type": "code",
   "execution_count": 2,
   "metadata": {},
   "outputs": [],
   "source": [
    "import os\n",
    "os.environ[\"CUDA_VISIBLE_DEVICES\"] = \"0, 6\""
   ]
  },
  {
   "cell_type": "code",
   "execution_count": 26,
   "metadata": {},
   "outputs": [],
   "source": [
    "import numpy as onp\n",
    "from numpy import fft\n",
    "import jax.numpy as np\n",
    "from jax import random, grad, vmap, jit, lax, pmap\n",
    "from jax.experimental import optimizers\n",
    "from jax.experimental.optimizers import make_schedule\n",
    "from jax.experimental.ode import odeint\n",
    "from jax.nn import relu, leaky_relu, swish, sigmoid\n",
    "from jax.config import config\n",
    "\n",
    "import itertools\n",
    "from functools import partial\n",
    "from torch.utils import data\n",
    "from tqdm import trange\n",
    "import matplotlib.pyplot as plt\n",
    "from scipy.interpolate import griddata\n",
    "\n",
    "from jax import jacobian, eval_shape\n",
    "from jax.tree_util import tree_map, tree_multimap, tree_reduce \n",
    "from jax.flatten_util import ravel_pytree\n",
    "from jax.ops import index_update, index\n",
    "\n",
    "from jax.scipy.stats.norm import logpdf, pdf\n",
    "\n",
    "\n",
    "from tqdm import trange, tqdm\n",
    "\n",
    "import time\n",
    "%matplotlib inline\n",
    "from IPython.display import clear_output"
   ]
  },
  {
   "cell_type": "code",
   "execution_count": 4,
   "metadata": {},
   "outputs": [],
   "source": [
    "path = '2d_toy/new_larger_para'"
   ]
  },
  {
   "cell_type": "code",
   "execution_count": 5,
   "metadata": {},
   "outputs": [],
   "source": [
    "plt.rcParams.update(plt.rcParamsDefault)\n",
    "plt.rc('font', family='serif')\n",
    "plt.rcParams.update({'font.size': 16,\n",
    "                        'lines.linewidth': 2,\n",
    "                        'axes.labelsize': 10,\n",
    "                        'axes.titlesize': 16,\n",
    "                        'xtick.labelsize': 10,\n",
    "                        'ytick.labelsize': 10,\n",
    "                        'legend.fontsize': 10,\n",
    "                        'axes.linewidth': 2})"
   ]
  },
  {
   "cell_type": "code",
   "execution_count": 6,
   "metadata": {},
   "outputs": [],
   "source": [
    "from helpers import *"
   ]
  },
  {
   "cell_type": "code",
   "execution_count": 7,
   "metadata": {},
   "outputs": [],
   "source": [
    "class sampler:\n",
    "    def __init__(self, X, Y, batch_size):\n",
    "\n",
    "        self.X = X\n",
    "        self.Y = Y\n",
    "        self.batch_size = batch_size\n",
    "    @partial(jit, static_argnums=(0,))\n",
    "    def sample(self, key):\n",
    "        idx = random.choice(key, np.arange(self.X.shape[0]), shape = (batch_size,), replace = False)\n",
    "        return (self.X[idx], self.Y[idx])"
   ]
  },
  {
   "cell_type": "code",
   "execution_count": 8,
   "metadata": {},
   "outputs": [],
   "source": [
    "key = random.PRNGKey(1234)"
   ]
  },
  {
   "cell_type": "code",
   "execution_count": 9,
   "metadata": {},
   "outputs": [],
   "source": [
    "def target_fn_gen(max_freq, key = random.PRNGKey(0)):\n",
    "    k1, k2 = random.split(key)\n",
    "    As = random.uniform(k1, shape = (4,2)) * 2\n",
    "    fs = random.uniform(k2, shape = (4, 4)) * max_freq\n",
    "    \n",
    "    def target_fn(X):\n",
    "        cs = []\n",
    "        for A, f in zip(As, fs):\n",
    "            cs.append(A[0] * np.sin(np.pi * f[0] * X[:, 0]) * np.cos(np.pi * f[1] * X[:,1]) + A[1] * np.sin(np.pi * f[2] * X[:, 0]) * np.cos(np.pi * f[3] * X[:,1]))\n",
    "        return np.array(cs).sum(0)\n",
    "    return target_fn"
   ]
  },
  {
   "cell_type": "code",
   "execution_count": 10,
   "metadata": {},
   "outputs": [],
   "source": [
    "max_freq = 36\n",
    "target_fn = target_fn_gen(max_freq, key = key)"
   ]
  },
  {
   "cell_type": "code",
   "execution_count": 11,
   "metadata": {},
   "outputs": [],
   "source": [
    "X = random.uniform(key, shape = (2**16, 2), minval = -1, maxval = 1)\n",
    "Y = target_fn(X)\n",
    "# Y = Y + random.normal(random.split(key)[0], shape = Y.shape)*Y.std(0)*0.01\n",
    "mu_X, sigma_X = X.mean(0), X.std(0)\n",
    "X = (X - mu_X) / sigma_X\n",
    "mu_Y, sigma_Y = Y.mean(0), Y.std(0)\n",
    "Y = (Y - mu_Y) / sigma_Y"
   ]
  },
  {
   "cell_type": "code",
   "execution_count": 12,
   "metadata": {},
   "outputs": [],
   "source": [
    "X_test = np.array(np.meshgrid(np.linspace(-1,1,200), np.linspace(-1,1,200))).transpose((1,2,0)).reshape(-1,2)\n",
    "Y_test = target_fn(X_test)"
   ]
  },
  {
   "cell_type": "code",
   "execution_count": 13,
   "metadata": {},
   "outputs": [
    {
     "data": {
      "image/png": "[encoded data removed]",
      "text/plain": [
       "<Figure size 400x300 with 2 Axes>"
      ]
     },
     "metadata": {},
     "output_type": "display_data"
    }
   ],
   "source": [
    "plt.figure(figsize = (4,3))\n",
    "plt.tricontourf(X_test[:,0], X_test[:,1], Y_test.flatten())\n",
    "plt.colorbar()\n",
    "plt.tight_layout()\n",
    "plt.savefig(path + f'data_size_target_{max_freq}.pdf', dpi = 200)\n",
    "plt.show()\n",
    "plt.close()"
   ]
  },
  {
   "cell_type": "code",
   "execution_count": 14,
   "metadata": {},
   "outputs": [],
   "source": [
    "layers = [X.shape[1], *[256 for _ in range(16)], 1]\n",
    "activation = np.tanh\n",
    "fit_model = MLPRegression(layers, activation = activation)"
   ]
  },
  {
   "cell_type": "code",
   "execution_count": 15,
   "metadata": {},
   "outputs": [],
   "source": [
    "batch_size = 2048\n",
    "data_sampler = sampler(X, Y, batch_size)"
   ]
  },
  {
   "cell_type": "code",
   "execution_count": 16,
   "metadata": {
    "scrolled": true
   },
   "outputs": [],
   "source": [
    "init_model = initNet(layers[:-1], activation = activation)\n",
    "#init_model.plot_degree(init_model.scale_params, fit_model.net_params[:-1], X, word = False)"
   ]
  },
  {
   "cell_type": "code",
   "execution_count": 17,
   "metadata": {},
   "outputs": [
    {
     "name": "stdout",
     "output_type": "stream",
     "text": [
      "Important: confirm lam 0.0001 before running!!!!!!!!!!!!!!!\n"
     ]
    }
   ],
   "source": [
    "lr = 5e-3\n",
    "init_fn, update_fn, get_params = optimizers.adam(lr)\n",
    "# init_fn, update_fn, get_params = optimizers.nesterov(lr, 0.9)\n",
    "lam = 1e-4\n",
    "@jit\n",
    "def step(i, state, X):\n",
    "    key = random.PRNGKey(i)\n",
    "    g = grad(init_model.regulated_logSineLoss)(get_params(state), init_model.net_init(key), X, lam = lam)\n",
    "    return update_fn(i, g, state)\n",
    "print(f'Important: confirm lam {lam} before running!!!!!!!!!!!!!!!')"
   ]
  },
  {
   "cell_type": "code",
   "execution_count": 18,
   "metadata": {},
   "outputs": [
    {
     "name": "stderr",
     "output_type": "stream",
     "text": [
      "100%|██████████| 20000/20000 [01:00<00:00, 330.08it/s, Log sine loss=0.010446843] \n"
     ]
    }
   ],
   "source": [
    "opt_state = init_fn(init_model.scale_params)\n",
    "init_nIter = 20000\n",
    "pbar = trange(init_nIter)\n",
    "scale_stor = []\n",
    "bias_stor = []\n",
    "\n",
    "for i in pbar:\n",
    "    mini_batch = data_sampler.sample(random.PRNGKey(i))[0]\n",
    "    opt_state = step(i, opt_state, mini_batch)\n",
    "    \n",
    "    if i % 100 == 0:\n",
    "        params = get_params(opt_state)\n",
    "        pbar.set_postfix({'Log sine loss': init_model.logSineLoss(get_params(opt_state), init_model.net_init(random.PRNGKey(i)), mini_batch)})\n",
    "        scale_stor.append([w for (w, b) in params])\n",
    "        bias_stor.append([b for (w, b) in params])\n",
    "        \n",
    "\n",
    "scale_stor = np.array(scale_stor)\n",
    "bias_stor = np.array(bias_stor)\n",
    "        \n"
   ]
  },
  {
   "cell_type": "code",
   "execution_count": 19,
   "metadata": {},
   "outputs": [],
   "source": [
    "scale_params = params"
   ]
  },
  {
   "cell_type": "code",
   "execution_count": 20,
   "metadata": {},
   "outputs": [
    {
     "data": {
      "image/png": "[encoded data removed]",
      "text/plain": [
       "<Figure size 400x300 with 1 Axes>"
      ]
     },
     "metadata": {},
     "output_type": "display_data"
    },
    {
     "data": {
      "image/png": "[encoded data removed]",
      "text/plain": [
       "<Figure size 400x300 with 1 Axes>"
      ]
     },
     "metadata": {},
     "output_type": "display_data"
    }
   ],
   "source": [
    "plt.figure(figsize = (4,3))\n",
    "\n",
    "plt.plot([w_init for w_init, b_init in scale_params], label = 'final')\n",
    "plt.plot([w_init for w_init, b_init in init_model.scale_params], label = 'initial')\n",
    "\n",
    "plt.yscale('log')\n",
    "plt.xlabel('layers')\n",
    "plt.legend()\n",
    "plt.title('weight scale')\n",
    "plt.tight_layout()\n",
    "\n",
    "plt.show()\n",
    "plt.close()\n",
    "\n",
    "plt.figure(figsize = (4,3))\n",
    "\n",
    "plt.plot([b_init for w_init, b_init in scale_params], label = 'final')\n",
    "plt.plot([b_init for w_init, b_init in init_model.scale_params], label = 'initial')\n",
    "\n",
    "plt.xlabel('layers')\n",
    "plt.legend()\n",
    "plt.title('bias')\n",
    "plt.tight_layout()\n",
    "\n",
    "plt.show()\n",
    "plt.close()"
   ]
  },
  {
   "cell_type": "code",
   "execution_count": 21,
   "metadata": {},
   "outputs": [],
   "source": [
    "fit_model.scaled_net_params = parameter_scaling(fit_model.net_params[:-1], scale_params) + [fit_model.net_params[-1]]"
   ]
  },
  {
   "cell_type": "code",
   "execution_count": 22,
   "metadata": {},
   "outputs": [],
   "source": [
    "key = random.PRNGKey(int(time.time()*100))"
   ]
  },
  {
   "cell_type": "code",
   "execution_count": 23,
   "metadata": {},
   "outputs": [],
   "source": [
    "# lr = 1e-3\n",
    "# init_fn, update_fn, get_params = optimizers.nesterov(lr, 0.9)\n",
    "\n",
    "init_fn, update_fn, get_params = optimizers.adam(optimizers.exponential_decay(5e-4, decay_steps = 400, decay_rate = 0.99))\n",
    "\n",
    "@jit\n",
    "def step(i, state, batch):\n",
    "    g = grad(fit_model.loss)(get_params(state), batch)\n",
    "    return update_fn(i, g, state)"
   ]
  },
  {
   "cell_type": "code",
   "execution_count": 24,
   "metadata": {},
   "outputs": [],
   "source": [
    "nIter = 120000"
   ]
  },
  {
   "cell_type": "code",
   "execution_count": 30,
   "metadata": {},
   "outputs": [
    {
     "name": "stderr",
     "output_type": "stream",
     "text": [
      "100%|██████████| 120000/120000 [21:29<00:00, 93.04it/s, Mean train error, Xavier=0.0052284356, Mean train error, Scaled=0.005081103]  \n"
     ]
    },
    {
     "name": "stdout",
     "output_type": "stream",
     "text": [
      "{'Data size': 4096, 'Xavier': '9.49e-01', 'Scaled': '8.81e-01'}\n"
     ]
    },
    {
     "name": "stderr",
     "output_type": "stream",
     "text": [
      "100%|██████████| 120000/120000 [21:37<00:00, 92.49it/s, Mean train error, Xavier=0.011549937, Mean train error, Scaled=0.0046959566]\n"
     ]
    },
    {
     "name": "stdout",
     "output_type": "stream",
     "text": [
      "{'Data size': 8192, 'Xavier': '7.71e-01', 'Scaled': '6.30e-01'}\n"
     ]
    },
    {
     "name": "stderr",
     "output_type": "stream",
     "text": [
      "100%|██████████| 120000/120000 [21:44<00:00, 92.01it/s, Mean train error, Xavier=0.2894302, Mean train error, Scaled=0.0038273572] \n"
     ]
    },
    {
     "name": "stdout",
     "output_type": "stream",
     "text": [
      "{'Data size': 16384, 'Xavier': '6.92e-01', 'Scaled': '3.97e-01'}\n"
     ]
    },
    {
     "name": "stderr",
     "output_type": "stream",
     "text": [
      "100%|██████████| 120000/120000 [21:52<00:00, 91.40it/s, Mean train error, Xavier=0.37752026, Mean train error, Scaled=0.0067834295]\n"
     ]
    },
    {
     "name": "stdout",
     "output_type": "stream",
     "text": [
      "{'Data size': 32768, 'Xavier': '4.86e-01', 'Scaled': '2.30e-01'}\n"
     ]
    },
    {
     "name": "stderr",
     "output_type": "stream",
     "text": [
      "100%|██████████| 120000/120000 [22:00<00:00, 90.86it/s, Mean train error, Xavier=0.3805301, Mean train error, Scaled=0.008155391]  \n"
     ]
    },
    {
     "name": "stdout",
     "output_type": "stream",
     "text": [
      "{'Data size': 65536, 'Xavier': '4.27e-01', 'Scaled': '1.13e-01'}\n"
     ]
    },
    {
     "name": "stderr",
     "output_type": "stream",
     "text": [
      "100%|██████████| 120000/120000 [22:19<00:00, 89.60it/s, Mean train error, Xavier=0.52323985, Mean train error, Scaled=0.010977387]\n"
     ]
    },
    {
     "name": "stdout",
     "output_type": "stream",
     "text": [
      "{'Data size': 131072, 'Xavier': '5.30e-01', 'Scaled': '4.98e-02'}\n"
     ]
    },
    {
     "name": "stderr",
     "output_type": "stream",
     "text": [
      "100%|██████████| 120000/120000 [22:47<00:00, 87.76it/s, Mean train error, Xavier=0.51623356, Mean train error, Scaled=0.012076775]\n"
     ]
    },
    {
     "name": "stdout",
     "output_type": "stream",
     "text": [
      "{'Data size': 262144, 'Xavier': '5.19e-01', 'Scaled': '2.51e-02'}\n"
     ]
    },
    {
     "name": "stderr",
     "output_type": "stream",
     "text": [
      "100%|██████████| 120000/120000 [23:45<00:00, 84.16it/s, Mean train error, Xavier=0.6154262, Mean train error, Scaled=0.012520658]  \n"
     ]
    },
    {
     "name": "stdout",
     "output_type": "stream",
     "text": [
      "{'Data size': 524288, 'Xavier': '6.14e-01', 'Scaled': '1.73e-02'}\n"
     ]
    },
    {
     "name": "stderr",
     "output_type": "stream",
     "text": [
      "100%|██████████| 120000/120000 [28:53<00:00, 69.21it/s, Mean train error, Xavier=0.51593506, Mean train error, Scaled=0.012383545]\n"
     ]
    },
    {
     "name": "stdout",
     "output_type": "stream",
     "text": [
      "{'Data size': 1048576, 'Xavier': '5.19e-01', 'Scaled': '1.52e-02'}\n"
     ]
    },
    {
     "name": "stderr",
     "output_type": "stream",
     "text": [
      "100%|██████████| 120000/120000 [37:25<00:00, 53.44it/s, Mean train error, Xavier=0.4388971, Mean train error, Scaled=0.012094466] \n"
     ]
    },
    {
     "ename": "RuntimeError",
     "evalue": "Resource exhausted: Out of memory while trying to allocate 25786580992 bytes.",
     "output_type": "error",
     "traceback": [
      "\u001b[0;31m---------------------------------------------------------------------------\u001b[0m",
      "\u001b[0;31mRuntimeError\u001b[0m                              Traceback (most recent call last)",
      "\u001b[0;32m<ipython-input-30-60e146a2f1aa>\u001b[0m in \u001b[0;36m<module>\u001b[0;34m\u001b[0m\n\u001b[1;32m     42\u001b[0m             \u001b[0mpbar\u001b[0m\u001b[0;34m.\u001b[0m\u001b[0mset_postfix\u001b[0m\u001b[0;34m(\u001b[0m\u001b[0;34m{\u001b[0m\u001b[0;34m'Mean train error, Xavier'\u001b[0m\u001b[0;34m:\u001b[0m \u001b[0mell\u001b[0m\u001b[0;34m[\u001b[0m\u001b[0;34m:\u001b[0m\u001b[0minit_size\u001b[0m\u001b[0;34m]\u001b[0m\u001b[0;34m.\u001b[0m\u001b[0mmean\u001b[0m\u001b[0;34m(\u001b[0m\u001b[0;36m0\u001b[0m\u001b[0;34m)\u001b[0m\u001b[0;34m,\u001b[0m \u001b[0;34m'Mean train error, Scaled'\u001b[0m\u001b[0;34m:\u001b[0m \u001b[0mell\u001b[0m\u001b[0;34m[\u001b[0m\u001b[0minit_size\u001b[0m\u001b[0;34m:\u001b[0m\u001b[0;34m]\u001b[0m\u001b[0;34m.\u001b[0m\u001b[0mmean\u001b[0m\u001b[0;34m(\u001b[0m\u001b[0;36m0\u001b[0m\u001b[0;34m)\u001b[0m\u001b[0;34m}\u001b[0m\u001b[0;34m)\u001b[0m\u001b[0;34m\u001b[0m\u001b[0;34m\u001b[0m\u001b[0m\n\u001b[1;32m     43\u001b[0m \u001b[0;34m\u001b[0m\u001b[0m\n\u001b[0;32m---> 44\u001b[0;31m     \u001b[0mtrain_errors\u001b[0m\u001b[0;34m.\u001b[0m\u001b[0mappend\u001b[0m\u001b[0;34m(\u001b[0m\u001b[0mpv_opt_error\u001b[0m\u001b[0;34m(\u001b[0m\u001b[0mopt_states\u001b[0m\u001b[0;34m,\u001b[0m \u001b[0;34m(\u001b[0m\u001b[0mX\u001b[0m\u001b[0;34m,\u001b[0m \u001b[0mY\u001b[0m\u001b[0;34m)\u001b[0m\u001b[0;34m)\u001b[0m\u001b[0;34m.\u001b[0m\u001b[0mreshape\u001b[0m\u001b[0;34m(\u001b[0m\u001b[0;34m-\u001b[0m\u001b[0;36m1\u001b[0m\u001b[0;34m,\u001b[0m\u001b[0;34m)\u001b[0m\u001b[0;34m)\u001b[0m\u001b[0;34m\u001b[0m\u001b[0;34m\u001b[0m\u001b[0m\n\u001b[0m\u001b[1;32m     45\u001b[0m     \u001b[0mtest_errors\u001b[0m\u001b[0;34m.\u001b[0m\u001b[0mappend\u001b[0m\u001b[0;34m(\u001b[0m\u001b[0mpv_opt_error\u001b[0m\u001b[0;34m(\u001b[0m\u001b[0mopt_states\u001b[0m\u001b[0;34m,\u001b[0m \u001b[0;34m(\u001b[0m\u001b[0;34m(\u001b[0m\u001b[0mX_test\u001b[0m \u001b[0;34m-\u001b[0m \u001b[0mmu_X\u001b[0m\u001b[0;34m)\u001b[0m \u001b[0;34m/\u001b[0m \u001b[0msigma_X\u001b[0m\u001b[0;34m,\u001b[0m \u001b[0;34m(\u001b[0m\u001b[0mY_test\u001b[0m \u001b[0;34m-\u001b[0m \u001b[0mmu_Y\u001b[0m\u001b[0;34m)\u001b[0m \u001b[0;34m/\u001b[0m \u001b[0msigma_Y\u001b[0m\u001b[0;34m)\u001b[0m\u001b[0;34m)\u001b[0m\u001b[0;34m.\u001b[0m\u001b[0mreshape\u001b[0m\u001b[0;34m(\u001b[0m\u001b[0;34m-\u001b[0m\u001b[0;36m1\u001b[0m\u001b[0;34m,\u001b[0m\u001b[0;34m)\u001b[0m\u001b[0;34m)\u001b[0m\u001b[0;34m\u001b[0m\u001b[0;34m\u001b[0m\u001b[0m\n\u001b[1;32m     46\u001b[0m     print({'Data size': data_size,\\\n",
      "    \u001b[0;31m[... skipping hidden 11 frame]\u001b[0m\n",
      "\u001b[0;32m/scratch/wangh19/anaconda3/lib/python3.8/site-packages/jax/interpreters/xla.py\u001b[0m in \u001b[0;36mbackend_compile\u001b[0;34m(backend, built_c, options)\u001b[0m\n\u001b[1;32m    383\u001b[0m   \u001b[0;31m# we use a separate function call to ensure that XLA compilation appears\u001b[0m\u001b[0;34m\u001b[0m\u001b[0;34m\u001b[0m\u001b[0;34m\u001b[0m\u001b[0m\n\u001b[1;32m    384\u001b[0m   \u001b[0;31m# separately in Python profiling results\u001b[0m\u001b[0;34m\u001b[0m\u001b[0;34m\u001b[0m\u001b[0;34m\u001b[0m\u001b[0m\n\u001b[0;32m--> 385\u001b[0;31m   \u001b[0;32mreturn\u001b[0m \u001b[0mbackend\u001b[0m\u001b[0;34m.\u001b[0m\u001b[0mcompile\u001b[0m\u001b[0;34m(\u001b[0m\u001b[0mbuilt_c\u001b[0m\u001b[0;34m,\u001b[0m \u001b[0mcompile_options\u001b[0m\u001b[0;34m=\u001b[0m\u001b[0moptions\u001b[0m\u001b[0;34m)\u001b[0m\u001b[0;34m\u001b[0m\u001b[0;34m\u001b[0m\u001b[0m\n\u001b[0m\u001b[1;32m    386\u001b[0m \u001b[0;34m\u001b[0m\u001b[0m\n\u001b[1;32m    387\u001b[0m \u001b[0;32mdef\u001b[0m \u001b[0m_execute_compiled_primitive\u001b[0m\u001b[0;34m(\u001b[0m\u001b[0mprim\u001b[0m\u001b[0;34m,\u001b[0m \u001b[0mcompiled\u001b[0m\u001b[0;34m,\u001b[0m \u001b[0mresult_handler\u001b[0m\u001b[0;34m,\u001b[0m \u001b[0;34m*\u001b[0m\u001b[0margs\u001b[0m\u001b[0;34m)\u001b[0m\u001b[0;34m:\u001b[0m\u001b[0;34m\u001b[0m\u001b[0;34m\u001b[0m\u001b[0m\n",
      "\u001b[0;31mRuntimeError\u001b[0m: Resource exhausted: Out of memory while trying to allocate 25786580992 bytes."
     ]
    }
   ],
   "source": [
    "train_errors = []\n",
    "test_errors = []\n",
    "\n",
    "init_size = 12\n",
    "\n",
    "opt_error = jit(lambda opt_states, batch: vmap(fit_model.l2_error, in_axes = [0, None])(vmap(get_params)(opt_states), batch))\n",
    "pv_opt_error = pmap(opt_error, in_axes = (0, None))\n",
    "data_sizes = 2 ** np.arange(12, 25).astype(int)\n",
    "\n",
    "for data_size in data_sizes:\n",
    "    \n",
    "    X = random.uniform(key, shape = (data_size, 2), minval = -1, maxval = 1)\n",
    "    Y = target_fn(X)\n",
    "    # Y = Y + random.normal(random.split(key)[0], shape = Y.shape)*Y.std(0)*0.01\n",
    "    mu_X, sigma_X = X.mean(0), X.std(0)\n",
    "    X = (X - mu_X) / sigma_X\n",
    "    mu_Y, sigma_Y = Y.mean(0), Y.std(0)\n",
    "    Y = (Y - mu_Y) / sigma_Y\n",
    "    \n",
    "    data_sampler = sampler(X, Y, batch_size)\n",
    "    \n",
    "\n",
    "\n",
    "    init_paramses = vmap(fit_model.net_init)(random.split(key, init_size))\n",
    "    scaled_init_paramses = vmap(full_scaling, in_axes = (0, None))(init_paramses, scale_params)\n",
    "\n",
    "    stacked_init_paramses = tree_multimap(stack_fn, init_paramses, scaled_init_paramses)\n",
    "\n",
    "    opt_states = vmap(vmap(init_fn))(stacked_init_paramses)\n",
    "\n",
    "    pv_step = pmap(vmap(step, in_axes = (None, 0, None)), in_axes = (None, 0, None))\n",
    "\n",
    "\n",
    "    pbar = trange(nIter)\n",
    "    \n",
    "        \n",
    "    for i in pbar:\n",
    "        mini_batch = data_sampler.sample(random.PRNGKey(i))\n",
    "        opt_states = pv_step(i, opt_states, mini_batch)\n",
    "        if i % 1000 == 0:\n",
    "            ell = pv_opt_error(opt_states, mini_batch).reshape(-1,)\n",
    "            pbar.set_postfix({'Mean train error, Xavier': ell[:init_size].mean(0), 'Mean train error, Scaled': ell[init_size:].mean(0)})\n",
    "    \n",
    "    train_errors.append(pv_opt_error(opt_states, (X, Y)).reshape(-1,))\n",
    "    test_errors.append(pv_opt_error(opt_states, ((X_test - mu_X) / sigma_X, (Y_test - mu_Y) / sigma_Y)).reshape(-1,))\n",
    "    print({'Data size': data_size,\\\n",
    "                      'Xavier': f'{test_errors[-1][:init_size].mean():.2e}',\\\n",
    "                      'Scaled': f'{test_errors[-1][init_size:].mean():.2e}'})\n",
    "    np.save(path + f'_data_size_train_test_errors_{max_freq}.npy', np.array((train_errors, test_errors)))\n",
    "        \n",
    "train_errors = np.array(train_errors)\n",
    "\n",
    "test_errors = np.array(test_errors)"
   ]
  },
  {
   "cell_type": "code",
   "execution_count": null,
   "metadata": {},
   "outputs": [],
   "source": [
    "train_errors, test_errors = np.load(path + f'_data_size_train_test_errors_{max_freq}.npy')\n",
    "sizes = data_sizes[:train_errors.shape[0]]"
   ]
  },
  {
   "cell_type": "code",
   "execution_count": null,
   "metadata": {},
   "outputs": [],
   "source": [
    "plt.figure(figsize = (12,3))\n",
    "plt.subplot(1,3,1)\n",
    "plt.plot(sizes, np.median(train_errors[:,:init_size], axis = 1), marker = 'd', linestyle = '--', label = 'Xavier')\n",
    "plt.fill_between(sizes, *np.quantile(train_errors[:,:init_size], np.array([0.1, 0.9]), axis = 1), alpha = 0.2)\n",
    "plt.plot(sizes, np.median(train_errors[:,init_size:], axis = 1), marker = '^', linestyle = '--', label = 'Scaled')\n",
    "plt.fill_between(sizes, *np.quantile(train_errors[:,init_size:], np.array([0.1, 0.9]), axis = 1), alpha = 0.2)\n",
    "plt.xlabel('Data size')\n",
    "plt.ylabel(r'Rel. $L_2$')\n",
    "plt.legend()\n",
    "plt.yscale('log')\n",
    "plt.xscale('log')\n",
    "plt.title('Train errors')\n",
    "# plt.ylim([5e-3, 1])\n",
    "plt.tight_layout()\n",
    "plt.subplot(1,3,2)\n",
    "plt.plot(sizes, np.median(test_errors[:,:init_size], axis = 1), marker = 'd', linestyle = '--', label = 'Xavier')\n",
    "plt.fill_between(sizes, *np.quantile(test_errors[:,:init_size], np.array([0.1, 0.9]), axis = 1), alpha = 0.2)\n",
    "plt.plot(sizes, np.median(test_errors[:,init_size:], axis = 1), marker = '^', linestyle = '--', label = 'Scaled')\n",
    "plt.fill_between(sizes, *np.quantile(test_errors[:,init_size:], np.array([0.1, 0.9]), axis = 1), alpha = 0.2)\n",
    "plt.legend()\n",
    "plt.yscale('log')\n",
    "plt.xscale('log')\n",
    "plt.title('Test errors')\n",
    "plt.xlabel('Data size')\n",
    "plt.ylabel(r'Rel. $L_2$')\n",
    "# plt.ylim([5e-3, 1])\n",
    "plt.tight_layout()\n",
    "\n",
    "plt.subplot(1,3,3)\n",
    "plt.plot(sizes, np.median(test_errors[:,:init_size], axis = 1),\\\n",
    "         marker = 'd', label = 'Xavier, Test')\n",
    "plt.plot(sizes, np.median(train_errors[:,:init_size], axis = 1),\\\n",
    "                  marker = 'd', linestyle = '--', label = 'Xavier, Train')\n",
    "\n",
    "plt.plot(sizes, np.median(test_errors[:,init_size:], axis = 1),\\\n",
    "         marker = '^', label = 'Scaled, Test')\n",
    "\n",
    "plt.plot(sizes, np.median(train_errors[:,init_size:], axis = 1),\\\n",
    "         marker = '^', linestyle = '--', label = 'Scaled, Train')\n",
    "\n",
    "plt.xlabel('Data size')\n",
    "plt.ylabel(r'Rel. $L_2$')\n",
    "plt.yscale('log')\n",
    "plt.xscale('log')\n",
    "# plt.ylim([5e-3, 1])\n",
    "plt.title('Train and Test errors')\n",
    "plt.legend(bbox_to_anchor = [1., 1.])\n",
    "\n",
    "plt.tight_layout()\n",
    "\n",
    "plt.savefig(path + f'_data_size_errors_{max_freq}.pdf', dpi = 200)\n",
    "plt.show()\n",
    "plt.close()"
   ]
  }
 ],
 "metadata": {
  "kernelspec": {
   "display_name": "Python 3",
   "language": "python",
   "name": "python3"
  },
  "language_info": {
   "codemirror_mode": {
    "name": "ipython",
    "version": 3
   },
   "file_extension": ".py",
   "mimetype": "text/x-python",
   "name": "python",
   "nbconvert_exporter": "python",
   "pygments_lexer": "ipython3",
   "version": "3.8.5"
  }
 },
 "nbformat": 4,
 "nbformat_minor": 4
}
